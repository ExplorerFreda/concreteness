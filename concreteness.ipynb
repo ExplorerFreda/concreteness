{
 "cells": [
  {
   "cell_type": "code",
   "execution_count": null,
   "metadata": {
    "colab": {},
    "colab_type": "code",
    "id": "9pJf0euIbbKq"
   },
   "outputs": [],
   "source": [
    "import logging\n",
    "import os\n",
    "import sys\n",
    "\n",
    "import numpy as np\n",
    "from matplotlib.pyplot import imshow\n",
    "%matplotlib inline\n",
    "\n",
    "import torch\n",
    "\n",
    "import concreteness, mirflickr"
   ]
  },
  {
   "cell_type": "code",
   "execution_count": null,
   "metadata": {},
   "outputs": [],
   "source": [
    "# Setup logging. We'll use DEBUG as logging level by default, but feel free to bump it down.\n",
    "logging_level = logging.DEBUG\n",
    "logging_format = '%(asctime)s [%(levelname)s] %(message)s'\n",
    "logging.basicConfig(level=logging_level, format=logging_format, stream=sys.stdout)\n",
    "\n",
    "log = logging.getLogger()"
   ]
  },
  {
   "cell_type": "code",
   "execution_count": null,
   "metadata": {
    "colab": {},
    "colab_type": "code",
    "id": "vu_KqmU2DUld"
   },
   "outputs": [],
   "source": [
    "# Edit these to point to your dataset and cache directories\n",
    "DATASET_DIR = \"/home/victor/data/mirflickr/\"\n",
    "CACHE_DIR = \"/home/victor/ml/concreteness/data/cache\"\n",
    "\n",
    "if not os.path.exists(CACHE_DIR):\n",
    "    os.makedirs(CACHE_DIR)\n",
    "\n",
    "# Based on the values above, we'll figure out other specific paths\n",
    "images_directory = os.path.join(DATASET_DIR, \"images\")\n",
    "tags_directory = os.path.join(DATASET_DIR, \"tags\")\n",
    "vectors_file = os.path.join(CACHE_DIR, \"vectors.pt\")\n",
    "annoy_index_file = os.path.join(CACHE_DIR, \"index.ann\")"
   ]
  },
  {
   "cell_type": "code",
   "execution_count": null,
   "metadata": {
    "colab": {},
    "colab_type": "code",
    "id": "576z96UveheO"
   },
   "outputs": [],
   "source": [
    "# Number of NNS to use during search\n",
    "K = 50"
   ]
  },
  {
   "cell_type": "code",
   "execution_count": null,
   "metadata": {},
   "outputs": [],
   "source": [
    "# Load the Mirflickr dataset\n",
    "dataset = mirflickr.MirflickrImagesDataset(images_directory, tags_directory,\n",
    "                                           transform=concreteness.get_tensor_for_image)"
   ]
  },
  {
   "cell_type": "code",
   "execution_count": null,
   "metadata": {},
   "outputs": [],
   "source": [
    "# Using a ResNet50, build image vectors for the dataset\n",
    "if os.path.isfile(vectors_file):\n",
    "    img_vectors = torch.load(vectors_file)\n",
    "    log.info(\"Loaded image vectors.\")\n",
    "else:\n",
    "    log.info(\"Building image vectors.\")\n",
    "    img_vectors = concreteness.build_image_vectors(dataset)\n",
    "    log.info(\"Built image vectors.\")\n",
    "    torch.save(img_vectors, vectors_file)\n",
    "    log.info(\"Saved image vectors to %s\", vectors_file)"
   ]
  },
  {
   "cell_type": "code",
   "execution_count": null,
   "metadata": {},
   "outputs": [],
   "source": [
    "# Build NNS\n",
    "nns = concreteness.build_nns(img_vectors, K, annoy_index_file=annoy_index_file)"
   ]
  },
  {
   "cell_type": "code",
   "execution_count": null,
   "metadata": {},
   "outputs": [],
   "source": [
    "# Add helper to show images. We'll use it to verify our computed NNS\n",
    "def show_image(dataset, image_index):\n",
    "    image = dataset.get_pil_image(image_index)\n",
    "    imshow(np.asarray(image))"
   ]
  },
  {
   "cell_type": "code",
   "execution_count": null,
   "metadata": {},
   "outputs": [],
   "source": [
    "# We'll pick an image and display it along with two of its nearest neighbors.\n",
    "# Feel free to change the image_index to see other examples.\n",
    "image_index = 1\n",
    "original_image, neighbor, another_neighbor = list(nns[image_index])[image_index:image_index + 3]"
   ]
  },
  {
   "cell_type": "code",
   "execution_count": null,
   "metadata": {},
   "outputs": [],
   "source": [
    "show_image(dataset, image_index)"
   ]
  },
  {
   "cell_type": "code",
   "execution_count": null,
   "metadata": {},
   "outputs": [],
   "source": [
    "show_image(dataset, neighbor)"
   ]
  },
  {
   "cell_type": "code",
   "execution_count": null,
   "metadata": {},
   "outputs": [],
   "source": [
    "show_image(dataset, another_neighbor)"
   ]
  },
  {
   "cell_type": "code",
   "execution_count": null,
   "metadata": {},
   "outputs": [],
   "source": [
    "log.info(\"Computing concreteness.\")\n",
    "concreteness_dict = concreteness.get_concreteness(dataset, nns, K)\n",
    "sorted_concreteness = sorted(concreteness_dict.items(), key=lambda x: x[1], reverse=True)\n",
    "log.info(\"Done!\")"
   ]
  },
  {
   "cell_type": "code",
   "execution_count": null,
   "metadata": {},
   "outputs": [],
   "source": [
    "sorted_concreteness"
   ]
  }
 ],
 "metadata": {
  "accelerator": "GPU",
  "colab": {
   "collapsed_sections": [],
   "name": "ResNet50_Updated.ipynb",
   "provenance": [],
   "version": "0.3.2"
  },
  "kernelspec": {
   "display_name": "Python 3",
   "language": "python",
   "name": "python3"
  },
  "language_info": {
   "codemirror_mode": {
    "name": "ipython",
    "version": 3
   },
   "file_extension": ".py",
   "mimetype": "text/x-python",
   "name": "python",
   "nbconvert_exporter": "python",
   "pygments_lexer": "ipython3",
   "version": "3.6.7"
  }
 },
 "nbformat": 4,
 "nbformat_minor": 1
}
